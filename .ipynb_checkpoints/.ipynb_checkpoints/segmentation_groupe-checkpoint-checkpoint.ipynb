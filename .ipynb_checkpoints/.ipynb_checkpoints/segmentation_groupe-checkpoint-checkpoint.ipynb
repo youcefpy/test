{
 "cells": [
  {
   "cell_type": "code",
   "execution_count": 17,
   "id": "061c2970-1cb0-44ca-abac-4a4c3de9ceb1",
   "metadata": {},
   "outputs": [],
   "source": [
    "import pandas as pd"
   ]
  },
  {
   "cell_type": "code",
   "execution_count": 18,
   "id": "7e6ae091-352d-4be9-9430-b863d0514477",
   "metadata": {},
   "outputs": [
    {
     "name": "stdout",
     "output_type": "stream",
     "text": [
      "Requirement already satisfied: openpyxl in c:\\users\\t480\\appdata\\local\\programs\\python\\python312\\lib\\site-packages (3.1.5)\n",
      "Requirement already satisfied: et-xmlfile in c:\\users\\t480\\appdata\\local\\programs\\python\\python312\\lib\\site-packages (from openpyxl) (1.1.0)\n",
      "Note: you may need to restart the kernel to use updated packages.\n"
     ]
    }
   ],
   "source": [
    "pip install openpyxl"
   ]
  },
  {
   "cell_type": "code",
   "execution_count": 19,
   "id": "5a251c14-def8-479f-b69c-c2bb6e123058",
   "metadata": {},
   "outputs": [],
   "source": [
    "df = pd.read_excel(\"GRC_Spotify_Exo_1.xlsx\")"
   ]
  },
  {
   "cell_type": "code",
   "execution_count": 20,
   "id": "77cefe59-c177-4335-81cc-402fd6d706f0",
   "metadata": {},
   "outputs": [],
   "source": [
    "#extraire les email \n",
    "prenoms_feminins = [\"lea\", \"alice\", \"claire\", \"emma\"]\n",
    "prenoms_masculins = [\"jean\", \"martin\", \"lucas\", \"olivier\"]\n",
    "\n",
    "#fonction pour detecter le sexe\n",
    "def detection_sexe(email):\n",
    "    prenom = email.split('.')[0].lower()\n",
    "    if prenom in prenoms_feminins:\n",
    "        return \"Féminin\"\n",
    "    elif prenom in prenoms_masculins:\n",
    "        return \"Masculin\"\n",
    "    else:\n",
    "        return \"Inconnu\"\n",
    "\n",
    "df[\"sexe\"] = df[\"Email\"].apply(detection_sexe)\n",
    "\n"
   ]
  },
  {
   "cell_type": "code",
   "execution_count": 21,
   "id": "a71efaab-6ec7-47e9-b3b5-e3c272b91b7c",
   "metadata": {},
   "outputs": [
    {
     "data": {
      "text/html": [
       "<div>\n",
       "<style scoped>\n",
       "    .dataframe tbody tr th:only-of-type {\n",
       "        vertical-align: middle;\n",
       "    }\n",
       "\n",
       "    .dataframe tbody tr th {\n",
       "        vertical-align: top;\n",
       "    }\n",
       "\n",
       "    .dataframe thead th {\n",
       "        text-align: right;\n",
       "    }\n",
       "</style>\n",
       "<table border=\"1\" class=\"dataframe\">\n",
       "  <thead>\n",
       "    <tr style=\"text-align: right;\">\n",
       "      <th></th>\n",
       "      <th>ID</th>\n",
       "      <th>Age</th>\n",
       "      <th>Email</th>\n",
       "      <th>Profession</th>\n",
       "      <th>Region</th>\n",
       "      <th>sexe</th>\n",
       "    </tr>\n",
       "  </thead>\n",
       "  <tbody>\n",
       "    <tr>\n",
       "      <th>0</th>\n",
       "      <td>223ARR</td>\n",
       "      <td>20</td>\n",
       "      <td>lea.moreau@mail.com</td>\n",
       "      <td>étudiant en droit</td>\n",
       "      <td>Pas-de-Calais</td>\n",
       "      <td>Féminin</td>\n",
       "    </tr>\n",
       "    <tr>\n",
       "      <th>1</th>\n",
       "      <td>695XGY</td>\n",
       "      <td>25</td>\n",
       "      <td>alice.thomas@mail.com</td>\n",
       "      <td>étudiant en informatique</td>\n",
       "      <td>Gironde</td>\n",
       "      <td>Féminin</td>\n",
       "    </tr>\n",
       "    <tr>\n",
       "      <th>2</th>\n",
       "      <td>163GHT</td>\n",
       "      <td>55</td>\n",
       "      <td>jean.durand@studentmail.fr</td>\n",
       "      <td>étudiant en informatique</td>\n",
       "      <td>Oise</td>\n",
       "      <td>Masculin</td>\n",
       "    </tr>\n",
       "    <tr>\n",
       "      <th>3</th>\n",
       "      <td>630ZDN</td>\n",
       "      <td>51</td>\n",
       "      <td>martin.david@studentmail.fr</td>\n",
       "      <td>étudiant en ingénierie</td>\n",
       "      <td>Somme</td>\n",
       "      <td>Masculin</td>\n",
       "    </tr>\n",
       "    <tr>\n",
       "      <th>4</th>\n",
       "      <td>582SUZ</td>\n",
       "      <td>18</td>\n",
       "      <td>claire.muller@studentmail.fr</td>\n",
       "      <td>étudiant en médecine</td>\n",
       "      <td>Aisne</td>\n",
       "      <td>Féminin</td>\n",
       "    </tr>\n",
       "    <tr>\n",
       "      <th>...</th>\n",
       "      <td>...</td>\n",
       "      <td>...</td>\n",
       "      <td>...</td>\n",
       "      <td>...</td>\n",
       "      <td>...</td>\n",
       "      <td>...</td>\n",
       "    </tr>\n",
       "    <tr>\n",
       "      <th>495</th>\n",
       "      <td>497YVU</td>\n",
       "      <td>24</td>\n",
       "      <td>alice.david@domain.fr</td>\n",
       "      <td>serveur</td>\n",
       "      <td>Gironde</td>\n",
       "      <td>Féminin</td>\n",
       "    </tr>\n",
       "    <tr>\n",
       "      <th>496</th>\n",
       "      <td>618XQI</td>\n",
       "      <td>25</td>\n",
       "      <td>lea.thomas@mail.com</td>\n",
       "      <td>étudiant en ingénierie</td>\n",
       "      <td>Pas-de-Calais</td>\n",
       "      <td>Féminin</td>\n",
       "    </tr>\n",
       "    <tr>\n",
       "      <th>497</th>\n",
       "      <td>720XLE</td>\n",
       "      <td>67</td>\n",
       "      <td>lea.david@example.com</td>\n",
       "      <td>étudiant en droit</td>\n",
       "      <td>Nord</td>\n",
       "      <td>Féminin</td>\n",
       "    </tr>\n",
       "    <tr>\n",
       "      <th>498</th>\n",
       "      <td>967JGM</td>\n",
       "      <td>18</td>\n",
       "      <td>lea.thomas@university.com</td>\n",
       "      <td>commercial</td>\n",
       "      <td>Nord</td>\n",
       "      <td>Féminin</td>\n",
       "    </tr>\n",
       "    <tr>\n",
       "      <th>499</th>\n",
       "      <td>966BSG</td>\n",
       "      <td>18</td>\n",
       "      <td>lea.thomas@university.com</td>\n",
       "      <td>étudiant en droit</td>\n",
       "      <td>Pas-de-Calais</td>\n",
       "      <td>Féminin</td>\n",
       "    </tr>\n",
       "  </tbody>\n",
       "</table>\n",
       "<p>500 rows × 6 columns</p>\n",
       "</div>"
      ],
      "text/plain": [
       "         ID  Age                         Email                Profession  \\\n",
       "0    223ARR   20           lea.moreau@mail.com         étudiant en droit   \n",
       "1    695XGY   25         alice.thomas@mail.com  étudiant en informatique   \n",
       "2    163GHT   55    jean.durand@studentmail.fr  étudiant en informatique   \n",
       "3    630ZDN   51   martin.david@studentmail.fr    étudiant en ingénierie   \n",
       "4    582SUZ   18  claire.muller@studentmail.fr      étudiant en médecine   \n",
       "..      ...  ...                           ...                       ...   \n",
       "495  497YVU   24         alice.david@domain.fr                   serveur   \n",
       "496  618XQI   25           lea.thomas@mail.com    étudiant en ingénierie   \n",
       "497  720XLE   67         lea.david@example.com         étudiant en droit   \n",
       "498  967JGM   18     lea.thomas@university.com                commercial   \n",
       "499  966BSG   18     lea.thomas@university.com         étudiant en droit   \n",
       "\n",
       "            Region      sexe  \n",
       "0    Pas-de-Calais   Féminin  \n",
       "1          Gironde   Féminin  \n",
       "2             Oise  Masculin  \n",
       "3            Somme  Masculin  \n",
       "4            Aisne   Féminin  \n",
       "..             ...       ...  \n",
       "495        Gironde   Féminin  \n",
       "496  Pas-de-Calais   Féminin  \n",
       "497           Nord   Féminin  \n",
       "498           Nord   Féminin  \n",
       "499  Pas-de-Calais   Féminin  \n",
       "\n",
       "[500 rows x 6 columns]"
      ]
     },
     "execution_count": 21,
     "metadata": {},
     "output_type": "execute_result"
    }
   ],
   "source": [
    "df"
   ]
  },
  {
   "cell_type": "code",
   "execution_count": 39,
   "id": "c79ecb27-b31a-4c1f-9d81-360c163ce4d2",
   "metadata": {},
   "outputs": [],
   "source": [
    "segment_group_Age = df[\"Age\"].value_counts()\n",
    "segment_group_Profession = df[\"Profession\"].value_counts()\n",
    "segment_groupby_Region = df[\"Region\"].value_counts()\n",
    "segment_groupby_sex = df[\"sexe\"].value_counts()"
   ]
  },
  {
   "cell_type": "code",
   "execution_count": 52,
   "id": "958cd492-c1cb-436f-83cf-2b71e3c03826",
   "metadata": {},
   "outputs": [],
   "source": [
    "#intervale d'age \n",
    "\n",
    "age_18_24 = df[(df[\"Age\"]>=18) & (df[\"Age\"] < 25)]\n"
   ]
  },
  {
   "cell_type": "code",
   "execution_count": 55,
   "id": "7fb58958-405e-49f6-9715-ac74e3f03829",
   "metadata": {},
   "outputs": [],
   "source": [
    "#load partie 2 \n",
    "df2 = pd.read_excel(\"Spotify_EXO_2.xlsx\")"
   ]
  },
  {
   "cell_type": "code",
   "execution_count": 56,
   "id": "262083a7-72d9-41e6-93b8-ea9cd81a7b94",
   "metadata": {},
   "outputs": [],
   "source": [
    "df2 = df2.drop([\"ID\"], axis=1)"
   ]
  },
  {
   "cell_type": "code",
   "execution_count": 57,
   "id": "31672f9e-5639-4b14-8fc8-78d6801ffa07",
   "metadata": {},
   "outputs": [
    {
     "data": {
      "text/html": [
       "<div>\n",
       "<style scoped>\n",
       "    .dataframe tbody tr th:only-of-type {\n",
       "        vertical-align: middle;\n",
       "    }\n",
       "\n",
       "    .dataframe tbody tr th {\n",
       "        vertical-align: top;\n",
       "    }\n",
       "\n",
       "    .dataframe thead th {\n",
       "        text-align: right;\n",
       "    }\n",
       "</style>\n",
       "<table border=\"1\" class=\"dataframe\">\n",
       "  <thead>\n",
       "    <tr style=\"text-align: right;\">\n",
       "      <th></th>\n",
       "      <th>concert_last_year</th>\n",
       "      <th>visited_website</th>\n",
       "      <th>created_account</th>\n",
       "      <th>listen_regularly</th>\n",
       "      <th>upgrade_to_premium</th>\n",
       "      <th>top20%_listeners</th>\n",
       "      <th>recommanded_spotify</th>\n",
       "    </tr>\n",
       "  </thead>\n",
       "  <tbody>\n",
       "    <tr>\n",
       "      <th>0</th>\n",
       "      <td>1</td>\n",
       "      <td>1</td>\n",
       "      <td>0</td>\n",
       "      <td>0</td>\n",
       "      <td>0</td>\n",
       "      <td>0</td>\n",
       "      <td>0</td>\n",
       "    </tr>\n",
       "    <tr>\n",
       "      <th>1</th>\n",
       "      <td>0</td>\n",
       "      <td>0</td>\n",
       "      <td>0</td>\n",
       "      <td>0</td>\n",
       "      <td>0</td>\n",
       "      <td>0</td>\n",
       "      <td>0</td>\n",
       "    </tr>\n",
       "    <tr>\n",
       "      <th>2</th>\n",
       "      <td>1</td>\n",
       "      <td>1</td>\n",
       "      <td>1</td>\n",
       "      <td>1</td>\n",
       "      <td>0</td>\n",
       "      <td>0</td>\n",
       "      <td>0</td>\n",
       "    </tr>\n",
       "    <tr>\n",
       "      <th>3</th>\n",
       "      <td>1</td>\n",
       "      <td>1</td>\n",
       "      <td>0</td>\n",
       "      <td>0</td>\n",
       "      <td>0</td>\n",
       "      <td>0</td>\n",
       "      <td>0</td>\n",
       "    </tr>\n",
       "    <tr>\n",
       "      <th>4</th>\n",
       "      <td>1</td>\n",
       "      <td>1</td>\n",
       "      <td>1</td>\n",
       "      <td>1</td>\n",
       "      <td>0</td>\n",
       "      <td>0</td>\n",
       "      <td>0</td>\n",
       "    </tr>\n",
       "  </tbody>\n",
       "</table>\n",
       "</div>"
      ],
      "text/plain": [
       "   concert_last_year  visited_website  created_account  listen_regularly  \\\n",
       "0                  1                1                0                 0   \n",
       "1                  0                0                0                 0   \n",
       "2                  1                1                1                 1   \n",
       "3                  1                1                0                 0   \n",
       "4                  1                1                1                 1   \n",
       "\n",
       "   upgrade_to_premium  top20%_listeners  recommanded_spotify  \n",
       "0                   0                 0                    0  \n",
       "1                   0                 0                    0  \n",
       "2                   0                 0                    0  \n",
       "3                   0                 0                    0  \n",
       "4                   0                 0                    0  "
      ]
     },
     "execution_count": 57,
     "metadata": {},
     "output_type": "execute_result"
    }
   ],
   "source": [
    "df2.head()"
   ]
  },
  {
   "cell_type": "code",
   "execution_count": 63,
   "id": "f98c5abb-a242-43ba-a7db-091b79399984",
   "metadata": {},
   "outputs": [
    {
     "data": {
      "text/plain": [
       "(500, 7)"
      ]
     },
     "execution_count": 63,
     "metadata": {},
     "output_type": "execute_result"
    }
   ],
   "source": [
    "df = df.merge(df2)"
   ]
  },
  {
   "cell_type": "code",
   "execution_count": 59,
   "id": "df27b95d-4445-43db-80ab-6c92aacc296d",
   "metadata": {},
   "outputs": [
    {
     "data": {
      "text/plain": [
       "Index(['ID', 'Age', 'Email', 'Profession', 'Region', 'sexe'], dtype='object')"
      ]
     },
     "execution_count": 59,
     "metadata": {},
     "output_type": "execute_result"
    }
   ],
   "source": [
    "df.columns"
   ]
  },
  {
   "cell_type": "code",
   "execution_count": 60,
   "id": "05f1a6d6-8f52-4fb5-8a7d-598bc60c0e10",
   "metadata": {},
   "outputs": [
    {
     "data": {
      "text/html": [
       "<div>\n",
       "<style scoped>\n",
       "    .dataframe tbody tr th:only-of-type {\n",
       "        vertical-align: middle;\n",
       "    }\n",
       "\n",
       "    .dataframe tbody tr th {\n",
       "        vertical-align: top;\n",
       "    }\n",
       "\n",
       "    .dataframe thead th {\n",
       "        text-align: right;\n",
       "    }\n",
       "</style>\n",
       "<table border=\"1\" class=\"dataframe\">\n",
       "  <thead>\n",
       "    <tr style=\"text-align: right;\">\n",
       "      <th></th>\n",
       "      <th>ID</th>\n",
       "      <th>Age</th>\n",
       "      <th>Email</th>\n",
       "      <th>Profession</th>\n",
       "      <th>Region</th>\n",
       "      <th>sexe</th>\n",
       "    </tr>\n",
       "  </thead>\n",
       "  <tbody>\n",
       "    <tr>\n",
       "      <th>0</th>\n",
       "      <td>223ARR</td>\n",
       "      <td>20</td>\n",
       "      <td>lea.moreau@mail.com</td>\n",
       "      <td>étudiant en droit</td>\n",
       "      <td>Pas-de-Calais</td>\n",
       "      <td>Féminin</td>\n",
       "    </tr>\n",
       "    <tr>\n",
       "      <th>1</th>\n",
       "      <td>695XGY</td>\n",
       "      <td>25</td>\n",
       "      <td>alice.thomas@mail.com</td>\n",
       "      <td>étudiant en informatique</td>\n",
       "      <td>Gironde</td>\n",
       "      <td>Féminin</td>\n",
       "    </tr>\n",
       "    <tr>\n",
       "      <th>2</th>\n",
       "      <td>163GHT</td>\n",
       "      <td>55</td>\n",
       "      <td>jean.durand@studentmail.fr</td>\n",
       "      <td>étudiant en informatique</td>\n",
       "      <td>Oise</td>\n",
       "      <td>Masculin</td>\n",
       "    </tr>\n",
       "    <tr>\n",
       "      <th>3</th>\n",
       "      <td>630ZDN</td>\n",
       "      <td>51</td>\n",
       "      <td>martin.david@studentmail.fr</td>\n",
       "      <td>étudiant en ingénierie</td>\n",
       "      <td>Somme</td>\n",
       "      <td>Masculin</td>\n",
       "    </tr>\n",
       "    <tr>\n",
       "      <th>4</th>\n",
       "      <td>582SUZ</td>\n",
       "      <td>18</td>\n",
       "      <td>claire.muller@studentmail.fr</td>\n",
       "      <td>étudiant en médecine</td>\n",
       "      <td>Aisne</td>\n",
       "      <td>Féminin</td>\n",
       "    </tr>\n",
       "  </tbody>\n",
       "</table>\n",
       "</div>"
      ],
      "text/plain": [
       "       ID  Age                         Email                Profession  \\\n",
       "0  223ARR   20           lea.moreau@mail.com         étudiant en droit   \n",
       "1  695XGY   25         alice.thomas@mail.com  étudiant en informatique   \n",
       "2  163GHT   55    jean.durand@studentmail.fr  étudiant en informatique   \n",
       "3  630ZDN   51   martin.david@studentmail.fr    étudiant en ingénierie   \n",
       "4  582SUZ   18  claire.muller@studentmail.fr      étudiant en médecine   \n",
       "\n",
       "          Region      sexe  \n",
       "0  Pas-de-Calais   Féminin  \n",
       "1        Gironde   Féminin  \n",
       "2           Oise  Masculin  \n",
       "3          Somme  Masculin  \n",
       "4          Aisne   Féminin  "
      ]
     },
     "execution_count": 60,
     "metadata": {},
     "output_type": "execute_result"
    }
   ],
   "source": [
    "df.head()"
   ]
  },
  {
   "cell_type": "code",
   "execution_count": 35,
   "id": "b5c1e1e2-f47b-4f8f-ad62-d4182b09fe01",
   "metadata": {},
   "outputs": [
    {
     "ename": "KeyError",
     "evalue": "'concert_last_year'",
     "output_type": "error",
     "traceback": [
      "\u001b[1;31m---------------------------------------------------------------------------\u001b[0m",
      "\u001b[1;31mKeyError\u001b[0m                                  Traceback (most recent call last)",
      "File \u001b[1;32m~\\AppData\\Local\\Programs\\Python\\Python312\\Lib\\site-packages\\pandas\\core\\indexes\\base.py:3805\u001b[0m, in \u001b[0;36mIndex.get_loc\u001b[1;34m(self, key)\u001b[0m\n\u001b[0;32m   3804\u001b[0m \u001b[38;5;28;01mtry\u001b[39;00m:\n\u001b[1;32m-> 3805\u001b[0m     \u001b[38;5;28;01mreturn\u001b[39;00m \u001b[38;5;28;43mself\u001b[39;49m\u001b[38;5;241;43m.\u001b[39;49m\u001b[43m_engine\u001b[49m\u001b[38;5;241;43m.\u001b[39;49m\u001b[43mget_loc\u001b[49m\u001b[43m(\u001b[49m\u001b[43mcasted_key\u001b[49m\u001b[43m)\u001b[49m\n\u001b[0;32m   3806\u001b[0m \u001b[38;5;28;01mexcept\u001b[39;00m \u001b[38;5;167;01mKeyError\u001b[39;00m \u001b[38;5;28;01mas\u001b[39;00m err:\n",
      "File \u001b[1;32mindex.pyx:167\u001b[0m, in \u001b[0;36mpandas._libs.index.IndexEngine.get_loc\u001b[1;34m()\u001b[0m\n",
      "File \u001b[1;32mindex.pyx:196\u001b[0m, in \u001b[0;36mpandas._libs.index.IndexEngine.get_loc\u001b[1;34m()\u001b[0m\n",
      "File \u001b[1;32mpandas\\\\_libs\\\\hashtable_class_helper.pxi:7081\u001b[0m, in \u001b[0;36mpandas._libs.hashtable.PyObjectHashTable.get_item\u001b[1;34m()\u001b[0m\n",
      "File \u001b[1;32mpandas\\\\_libs\\\\hashtable_class_helper.pxi:7089\u001b[0m, in \u001b[0;36mpandas._libs.hashtable.PyObjectHashTable.get_item\u001b[1;34m()\u001b[0m\n",
      "\u001b[1;31mKeyError\u001b[0m: 'concert_last_year'",
      "\nThe above exception was the direct cause of the following exception:\n",
      "\u001b[1;31mKeyError\u001b[0m                                  Traceback (most recent call last)",
      "Cell \u001b[1;32mIn[35], line 1\u001b[0m\n\u001b[1;32m----> 1\u001b[0m df[\u001b[43mdf\u001b[49m\u001b[43m[\u001b[49m\u001b[38;5;124;43m\"\u001b[39;49m\u001b[38;5;124;43mconcert_last_year\u001b[39;49m\u001b[38;5;124;43m\"\u001b[39;49m\u001b[43m]\u001b[49m\u001b[38;5;241m==\u001b[39m\u001b[38;5;241m1\u001b[39m]\n",
      "File \u001b[1;32m~\\AppData\\Local\\Programs\\Python\\Python312\\Lib\\site-packages\\pandas\\core\\frame.py:4102\u001b[0m, in \u001b[0;36mDataFrame.__getitem__\u001b[1;34m(self, key)\u001b[0m\n\u001b[0;32m   4100\u001b[0m \u001b[38;5;28;01mif\u001b[39;00m \u001b[38;5;28mself\u001b[39m\u001b[38;5;241m.\u001b[39mcolumns\u001b[38;5;241m.\u001b[39mnlevels \u001b[38;5;241m>\u001b[39m \u001b[38;5;241m1\u001b[39m:\n\u001b[0;32m   4101\u001b[0m     \u001b[38;5;28;01mreturn\u001b[39;00m \u001b[38;5;28mself\u001b[39m\u001b[38;5;241m.\u001b[39m_getitem_multilevel(key)\n\u001b[1;32m-> 4102\u001b[0m indexer \u001b[38;5;241m=\u001b[39m \u001b[38;5;28;43mself\u001b[39;49m\u001b[38;5;241;43m.\u001b[39;49m\u001b[43mcolumns\u001b[49m\u001b[38;5;241;43m.\u001b[39;49m\u001b[43mget_loc\u001b[49m\u001b[43m(\u001b[49m\u001b[43mkey\u001b[49m\u001b[43m)\u001b[49m\n\u001b[0;32m   4103\u001b[0m \u001b[38;5;28;01mif\u001b[39;00m is_integer(indexer):\n\u001b[0;32m   4104\u001b[0m     indexer \u001b[38;5;241m=\u001b[39m [indexer]\n",
      "File \u001b[1;32m~\\AppData\\Local\\Programs\\Python\\Python312\\Lib\\site-packages\\pandas\\core\\indexes\\base.py:3812\u001b[0m, in \u001b[0;36mIndex.get_loc\u001b[1;34m(self, key)\u001b[0m\n\u001b[0;32m   3807\u001b[0m     \u001b[38;5;28;01mif\u001b[39;00m \u001b[38;5;28misinstance\u001b[39m(casted_key, \u001b[38;5;28mslice\u001b[39m) \u001b[38;5;129;01mor\u001b[39;00m (\n\u001b[0;32m   3808\u001b[0m         \u001b[38;5;28misinstance\u001b[39m(casted_key, abc\u001b[38;5;241m.\u001b[39mIterable)\n\u001b[0;32m   3809\u001b[0m         \u001b[38;5;129;01mand\u001b[39;00m \u001b[38;5;28many\u001b[39m(\u001b[38;5;28misinstance\u001b[39m(x, \u001b[38;5;28mslice\u001b[39m) \u001b[38;5;28;01mfor\u001b[39;00m x \u001b[38;5;129;01min\u001b[39;00m casted_key)\n\u001b[0;32m   3810\u001b[0m     ):\n\u001b[0;32m   3811\u001b[0m         \u001b[38;5;28;01mraise\u001b[39;00m InvalidIndexError(key)\n\u001b[1;32m-> 3812\u001b[0m     \u001b[38;5;28;01mraise\u001b[39;00m \u001b[38;5;167;01mKeyError\u001b[39;00m(key) \u001b[38;5;28;01mfrom\u001b[39;00m \u001b[38;5;21;01merr\u001b[39;00m\n\u001b[0;32m   3813\u001b[0m \u001b[38;5;28;01mexcept\u001b[39;00m \u001b[38;5;167;01mTypeError\u001b[39;00m:\n\u001b[0;32m   3814\u001b[0m     \u001b[38;5;66;03m# If we have a listlike key, _check_indexing_error will raise\u001b[39;00m\n\u001b[0;32m   3815\u001b[0m     \u001b[38;5;66;03m#  InvalidIndexError. Otherwise we fall through and re-raise\u001b[39;00m\n\u001b[0;32m   3816\u001b[0m     \u001b[38;5;66;03m#  the TypeError.\u001b[39;00m\n\u001b[0;32m   3817\u001b[0m     \u001b[38;5;28mself\u001b[39m\u001b[38;5;241m.\u001b[39m_check_indexing_error(key)\n",
      "\u001b[1;31mKeyError\u001b[0m: 'concert_last_year'"
     ]
    }
   ],
   "source": [
    "df[df[\"concert_last_year\"]==1]"
   ]
  },
  {
   "cell_type": "code",
   "execution_count": null,
   "id": "ed0b7b99-6e72-4a32-b979-6981fda97acc",
   "metadata": {},
   "outputs": [],
   "source": []
  }
 ],
 "metadata": {
  "kernelspec": {
   "display_name": "Python 3 (ipykernel)",
   "language": "python",
   "name": "python3"
  },
  "language_info": {
   "codemirror_mode": {
    "name": "ipython",
    "version": 3
   },
   "file_extension": ".py",
   "mimetype": "text/x-python",
   "name": "python",
   "nbconvert_exporter": "python",
   "pygments_lexer": "ipython3",
   "version": "3.12.6"
  }
 },
 "nbformat": 4,
 "nbformat_minor": 5
}
